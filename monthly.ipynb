{
 "cells": [
  {
   "cell_type": "markdown",
   "metadata": {},
   "source": [
    "# September 2020 Climate Statistics\n",
    "Station MD-FR-41, New Market 1.7 NW"
   ]
  },
  {
   "cell_type": "code",
   "execution_count": 6,
   "metadata": {},
   "outputs": [],
   "source": [
    "%%capture cap --no-stderr\n",
    "\n",
    "from __future__ import print_function, division\n",
    "import numpy as np\n",
    "\n",
    "total_rain = 2.26\n",
    "print(\"September total rainfall = \", total_rain)\n",
    "\n",
    "print(\"September 2020\")\n",
    "fname = 'sept2020.txt'\n",
    "\n",
    "climo = np.loadtxt(fname, dtype='str', usecols=range(0, 5))\n",
    "print(climo)\n",
    "\n",
    "day,maxtemp,mintemp,avgtemp,rainfall = np.loadtxt(fname, usecols=range(0, 5), skiprows=1, unpack=True)\n",
    "print(day)\n",
    "print(maxtemp)\n",
    "print(mintemp)\n",
    "print(avgtemp)\n",
    "print(rainfall)\n",
    "\n",
    "cooldegday60 = avgtemp - 60\n",
    "cooldegday60[cooldegday60<0]=0\n",
    "cooldegday65 = avgtemp - 65\n",
    "cooldegday65[cooldegday65<0]=0\n",
    "print(day,len(day))\n",
    "print(maxtemp,len(maxtemp))\n",
    "print(mintemp,len(mintemp))\n",
    "print(avgtemp,len(avgtemp))\n",
    "print(cooldegday60,len(cooldegday60))\n",
    "print(cooldegday65,len(cooldegday65))\n",
    "print(rainfall,len(rainfall))\n",
    "\n",
    "mean_maxtemp = np.mean(maxtemp)\n",
    "med_maxtemp = np.median(maxtemp)\n",
    "max_maxtemp = np.amax(maxtemp)\n",
    "mean_mintemp = np.mean(mintemp)\n",
    "med_mintemp = np.median(mintemp)\n",
    "min_mintemp = np.amin(mintemp)\n",
    "mean_avgtemp = np.mean(avgtemp)\n",
    "med_avgtemp = np.median(avgtemp)\n",
    "tot_rainfall = np.sum(rainfall)\n",
    "tot_cooldegday60 = np.sum(cooldegday60)\n",
    "tot_cooldegday65 = np.sum(cooldegday65)\n",
    "\n",
    "print(\"Mean max temp = \", mean_maxtemp)\n",
    "print(\"Median max temp = \", med_maxtemp) \n",
    "print(\"Maximum max temp = \", max_maxtemp) \n",
    "print(\"Mean min temp = \", mean_mintemp)\n",
    "print(\"Median min temp = \", med_mintemp) \n",
    "print(\"Minimum min temp = \", min_mintemp) \n",
    "print(\"Mean avg temp = \", mean_avgtemp)\n",
    "print(\"Median avg temp = \", med_avgtemp) \n",
    "print(\"Total cooling degree days base 60 = \", tot_cooldegday60)\n",
    "print(\"Total cooling degree days base 65 = \", tot_cooldegday65)\n",
    "print(\"Total rainfall = \", tot_rainfall)\n",
    "\n",
    "with open('climo_september2020.txt', 'w') as f:\n",
    "    f.write(cap.stdout)"
   ]
  },
  {
   "cell_type": "code",
   "execution_count": null,
   "metadata": {},
   "outputs": [],
   "source": []
  }
 ],
 "metadata": {
  "kernelspec": {
   "display_name": "Python 2",
   "language": "python",
   "name": "python2"
  },
  "language_info": {
   "codemirror_mode": {
    "name": "ipython",
    "version": 2
   },
   "file_extension": ".py",
   "mimetype": "text/x-python",
   "name": "python",
   "nbconvert_exporter": "python",
   "pygments_lexer": "ipython2",
   "version": "2.7.16"
  }
 },
 "nbformat": 4,
 "nbformat_minor": 2
}
